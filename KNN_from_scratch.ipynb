{
  "cells": [
    {
      "cell_type": "code",
      "execution_count": 2,
      "metadata": {
        "id": "OZld2XcXkFGV"
      },
      "outputs": [],
      "source": [
        "# Import packages\n",
        "import numpy as np\n",
        "import matplotlib.pyplot as plt\n",
        "\n",
        "# Define a function takes in 2 numpy arrays and calculates the distance between the two\n",
        "# d = \\sqrt{(x_2 - x_1)^2 + (y_2-y_1)^2} for 2 variables\n",
        "\n",
        "def distance(x1, x2):\n",
        "    return np.sqrt(np.sum((x1 - x2)**2))\n"
      ]
    },
    {
      "cell_type": "code",
      "execution_count": 14,
      "metadata": {
        "colab": {
          "base_uri": "https://localhost:8080/"
        },
        "id": "fhGjdq_VlsEM",
        "outputId": "95ddb659-6d2b-42a3-c028-b8bbfaf538a7"
      },
      "outputs": [
        {
          "data": {
            "text/plain": [
              "2.0"
            ]
          },
          "execution_count": 14,
          "metadata": {},
          "output_type": "execute_result"
        }
      ],
      "source": [
        "# Test the distance function\n",
        "\n",
        "distance(np.array([2,2,2,2]), np.array([3,3,3,3]))"
      ]
    },
    {
      "cell_type": "code",
      "execution_count": 54,
      "metadata": {
        "id": "gK9fupBkkRvc"
      },
      "outputs": [],
      "source": [
        "# Make KNN object to set parameters, fit onto training data and make predictions\n",
        "class KNN:\n",
        "    def __init__(self, k=5):\n",
        "        # Default values is 5, set to whatever is input when initializing\n",
        "        self.k = k\n",
        "\n",
        "    def fit(self, X, y):\n",
        "        # Accept an X and a y\n",
        "        # X should be nxn with n observations and n predictors\n",
        "        # y should be nx1 with n observations and 1 set of outcomes\n",
        "        self.X_train = X\n",
        "        self.y_train = y\n",
        "        self.n_features = X.shape[1]\n",
        "\n",
        "    def predictOne(self, x):\n",
        "        # Calculate distances between x and all training data\n",
        "        distances = list(map(lambda x_train: distance(x, x_train), self.X_train))\n",
        "\n",
        "        # Get the k nearest neighbors and their y values\n",
        "        k_indexes = np.argsort(distances)[:self.k]\n",
        "        k_nearest_y = list(map(lambda i: self.y_train[i], k_indexes))\n",
        "\n",
        "        # Return the most common y value of the  the k nearest neighbors\n",
        "        most_common = np.argmax(np.bincount(k_nearest_y))\n",
        "        return most_common\n",
        "\n",
        "    def predict(self, X):\n",
        "        \n",
        "        # Check to make sure that the number of features in predict X matches\n",
        "        # the fit data\n",
        "        if X.shape[1] != self.n_features:\n",
        "          raise ValueError(\"Number of features in X does not match training data\")\n",
        "\n",
        "        # Map our predictOne function to each set of predictors to get all our\n",
        "        # predictions\n",
        "        # then return the prediction as an output\n",
        "        y_pred = list(map(lambda x: self.predictOne(x), X))\n",
        "        return np.array(y_pred)\n",
        "      \n",
        "    def plot(self, resolution=0.5):\n",
        "        # Get the minimum and maximum values\n",
        "        x_min, x_max = self.X_train[:, 0].min() - 1, self.X_train[:, 0].max() + 1\n",
        "        y_min, y_max = self.X_train[:, 1].min() - 1, self.X_train[:, 1].max() + 1\n",
        "        xx, yy = np.meshgrid(np.arange(x_min, x_max, resolution), np.arange(y_min, y_max, resolution))\n",
        "\n",
        "        # Predict the class labels for each point on the mesh\n",
        "        Z = self.predict(np.c_[xx.ravel(), yy.ravel()])\n",
        "        Z = Z.reshape(xx.shape)\n",
        "\n",
        "        # Make the plot\n",
        "        plt.contourf(xx, yy, Z, alpha=0.4)\n",
        "        plt.scatter(self.X_train[:, 0], self.X_train[:, 1], c=self.y_train, alpha=0.8)\n",
        "        plt.xlabel('Feature 1')\n",
        "        plt.ylabel('Feature 2')\n",
        "        plt.title(f'KNN Decision Surface (k={self.k})')\n",
        "        plt.show()\n",
        "\n"
      ]
    },
    {
      "cell_type": "code",
      "execution_count": 55,
      "metadata": {
        "colab": {
          "base_uri": "https://localhost:8080/",
          "height": 295
        },
        "id": "i5tHbCbxrYAg",
        "outputId": "b2e292b0-3b4e-4b61-feef-426938d1f6ff"
      },
      "outputs": [
        {
          "data": {
            "image/png": "[encoded data removed]",
            "text/plain": [
              "<Figure size 432x288 with 1 Axes>"
            ]
          },
          "metadata": {
            "needs_background": "light"
          },
          "output_type": "display_data"
        }
      ],
      "source": [
        "# Test out the function\n",
        "\n",
        "X = np.vstack((np.arange(0, 100, 1, dtype=int), np.arange(0, 100, 1, dtype=int))).T\n",
        "y = np.concatenate((np.zeros(100//2), np.ones(100//2)))\n",
        "\n",
        "knn = KNN(3)\n",
        "\n",
        "knn.fit(X,y)\n",
        "\n",
        "knn.predict(np.array([[2,1],[99,86]]))\n",
        "\n",
        "knn.plot()"
      ]
    }
  ],
  "metadata": {
    "colab": {
      "provenance": []
    },
    "kernelspec": {
      "display_name": "Python 3",
      "name": "python3"
    },
    "language_info": {
      "name": "python"
    }
  },
  "nbformat": 4,
  "nbformat_minor": 0
}
